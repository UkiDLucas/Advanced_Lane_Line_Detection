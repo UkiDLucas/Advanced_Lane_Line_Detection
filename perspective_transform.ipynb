{
 "cells": [
  {
   "cell_type": "code",
   "execution_count": 1,
   "metadata": {
    "collapsed": true,
    "deletable": true,
    "editable": true
   },
   "outputs": [],
   "source": [
    "def warp(image):\n",
    "    print(image.shape) # height, width, channels\n",
    "    image_size = (image.shape[1], image.shape[0]) # width, height\n",
    "    \n",
    "    src = np.float32(\n",
    "    [[352,83],\n",
    "     [354,116],\n",
    "     [281,108],\n",
    "     [280,74]\n",
    "    ])\n",
    "    \n",
    "    dst = np.float32(\n",
    "    [[352,82],\n",
    "     [352,116],\n",
    "     [280,116],\n",
    "     [280,82]\n",
    "    ])\n",
    "\n",
    "    M = cv2.getPerspectiveTransform(src, dst)\n",
    "    warped = cv2.warpPerspective(image, M, image_size, flags=cv2.INTER_LINEAR)\n",
    "    return "
   ]
  },
  {
   "cell_type": "code",
   "execution_count": null,
   "metadata": {
    "collapsed": false,
    "deletable": true,
    "editable": true
   },
   "outputs": [],
   "source": []
  },
  {
   "cell_type": "code",
   "execution_count": null,
   "metadata": {
    "collapsed": true,
    "deletable": true,
    "editable": true
   },
   "outputs": [],
   "source": []
  }
 ],
 "metadata": {
  "kernelspec": {
   "display_name": "conda env py352_tf_gpu",
   "language": "python",
   "name": "py352_tf_gpu"
  },
  "language_info": {
   "codemirror_mode": {
    "name": "ipython",
    "version": 3
   },
   "file_extension": ".py",
   "mimetype": "text/x-python",
   "name": "python",
   "nbconvert_exporter": "python",
   "pygments_lexer": "ipython3",
   "version": "3.5.2"
  },
  "widgets": {
   "state": {},
   "version": "1.1.2"
  }
 },
 "nbformat": 4,
 "nbformat_minor": 2
}
