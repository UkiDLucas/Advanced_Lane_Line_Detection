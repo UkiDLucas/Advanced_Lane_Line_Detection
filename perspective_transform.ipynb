{
 "cells": [
  {
   "cell_type": "code",
   "execution_count": 1,
   "metadata": {
    "collapsed": true
   },
   "outputs": [],
   "source": [
    "def warp(image):\n",
    "    print(image.shape) # height, width, channels\n",
    "    image_size = (image.shape[1], image.shape[0]) # width, height\n",
    "    \n",
    "    src = np.float32(\n",
    "    [[352,83],\n",
    "     [354,116],\n",
    "     [281,108],\n",
    "     [280,74]\n",
    "    ])\n",
    "    \n",
    "    dst = np.float32(\n",
    "    [[352,82],\n",
    "     [352,116],\n",
    "     [280,116],\n",
    "     [280,82]\n",
    "    ])\n",
    "\n",
    "    M = cv2.getPerspectiveTransform(src, dst)\n",
    "    warped = cv2.warpPerspective(image, M, image_size, flags=cv2.INTER_LINEAR)\n",
    "    return "
   ]
  },
  {
   "cell_type": "code",
   "execution_count": 2,
   "metadata": {
    "collapsed": false
   },
   "outputs": [],
   "source": [
    "def corners_unwarp(image, nx, ny, camera_matrix, distortion_coefficients):\n",
    "    \"\"\"\n",
    "    Function takes: \n",
    "    - an original image\n",
    "    - chessboard dimantions nx, ny e.g. 9, 6\n",
    "    - perspective_transform_matrix\n",
    "    - distortion coefficients\n",
    "    Returns:\n",
    "    - new perspective-transformed image\n",
    "    - perspective_transform_matrix\n",
    "    \"\"\"\n",
    "    \n",
    "    image_undist = cv2.undistort(\n",
    "        image, \n",
    "        camera_matrix, \n",
    "        distortion_coefficients, \n",
    "        None, \n",
    "        perspective_transform_matrix)\n",
    "    \n",
    "    image_gray = cv2.cvtColor(image_undist, cv2.COLOR_BGR2GRAY)\n",
    "    # Search for corners in the grayscaled image\n",
    "    ret, corners = cv2.findChessboardCorners(image_gray, (nx, ny), None)\n",
    "\n",
    "    if ret == True:\n",
    "        # If we found corners, draw them! (just for fun)\n",
    "        cv2.drawChessboardCorners(image_undist, (nx, ny), corners, ret)\n",
    "        # Choose offset from image corners to plot detected corners\n",
    "        # This should be chosen to present the result at the proper aspect ratio\n",
    "        # My choice of 100 pixels is not exact, but close enough for our purpose here\n",
    "        offset = 100 # offset for dst points\n",
    "        # Grab the image shape\n",
    "        img_size = (image_gray.shape[1], image_gray.shape[0])\n",
    "\n",
    "        # For source points I'm grabbing the outer four detected corners\n",
    "        src = np.float32([corners[0], corners[nx-1], corners[-1], corners[-nx]])\n",
    "        # For destination points, I'm arbitrarily choosing some points to be\n",
    "        # a nice fit for displaying our warped result \n",
    "        # again, not exact, but close enough for our purposes\n",
    "        dst = np.float32([[offset, offset], [img_size[0]-offset, offset], \n",
    "                                     [img_size[0]-offset, img_size[1]-offset], \n",
    "                                     [offset, img_size[1]-offset]])\n",
    "        # Given src and dst points, calculate the perspective transform matrix\n",
    "        M = cv2.getPerspectiveTransform(src, dst)\n",
    "        # Warp the image using OpenCV warpPerspective()\n",
    "        warped = cv2.warpPerspective(image_undist, M, img_size)\n",
    "\n",
    "    # Return the resulting image and matrix\n",
    "    return warped, M"
   ]
  },
  {
   "cell_type": "code",
   "execution_count": null,
   "metadata": {
    "collapsed": true
   },
   "outputs": [],
   "source": []
  }
 ],
 "metadata": {
  "kernelspec": {
   "display_name": "conda env py352_tf_gpu",
   "language": "python",
   "name": "py352_tf_gpu"
  },
  "language_info": {
   "codemirror_mode": {
    "name": "ipython",
    "version": 3
   },
   "file_extension": ".py",
   "mimetype": "text/x-python",
   "name": "python",
   "nbconvert_exporter": "python",
   "pygments_lexer": "ipython3",
   "version": "3.5.2"
  },
  "widgets": {
   "state": {},
   "version": "1.1.2"
  }
 },
 "nbformat": 4,
 "nbformat_minor": 2
}
