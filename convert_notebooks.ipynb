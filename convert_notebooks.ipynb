{
 "cells": [
  {
   "cell_type": "code",
   "execution_count": 1,
   "metadata": {
    "collapsed": false
   },
   "outputs": [
    {
     "name": "stdout",
     "output_type": "stream",
     "text": [
      "[NbConvertApp] Converting notebook camera_calibration.ipynb to markdown\n",
      "[NbConvertApp] Writing 8797 bytes to camera_calibration.md\n"
     ]
    }
   ],
   "source": [
    "# see http://nbconvert.readthedocs.io/en/latest/usage.html\n",
    "!jupyter nbconvert --to markdown camera_calibration.ipynb"
   ]
  },
  {
   "cell_type": "code",
   "execution_count": 2,
   "metadata": {
    "collapsed": false
   },
   "outputs": [
    {
     "name": "stdout",
     "output_type": "stream",
     "text": [
      "[NbConvertApp] Converting notebook README.ipynb to markdown\n",
      "[NbConvertApp] Writing 12232 bytes to README.md\n"
     ]
    }
   ],
   "source": [
    "# see http://nbconvert.readthedocs.io/en/latest/usage.html\n",
    "!jupyter nbconvert --to markdown README.ipynb"
   ]
  },
  {
   "cell_type": "code",
   "execution_count": null,
   "metadata": {
    "collapsed": true
   },
   "outputs": [],
   "source": []
  }
 ],
 "metadata": {
  "kernelspec": {
   "display_name": "conda env py352_tf_gpu",
   "language": "python",
   "name": "py352_tf_gpu"
  },
  "language_info": {
   "codemirror_mode": {
    "name": "ipython",
    "version": 3
   },
   "file_extension": ".py",
   "mimetype": "text/x-python",
   "name": "python",
   "nbconvert_exporter": "python",
   "pygments_lexer": "ipython3",
   "version": "3.5.2"
  },
  "widgets": {
   "state": {},
   "version": "1.1.2"
  }
 },
 "nbformat": 4,
 "nbformat_minor": 2
}
