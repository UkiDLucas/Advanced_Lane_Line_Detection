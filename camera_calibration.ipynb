{
 "cells": [
  {
   "cell_type": "markdown",
   "metadata": {
    "deletable": true,
    "editable": true
   },
   "source": [
    "# Camera calibration: adjusting camera lense edge distortion\n",
    "by Uki D. Lucas"
   ]
  },
  {
   "cell_type": "markdown",
   "metadata": {
    "deletable": true,
    "editable": true
   },
   "source": [
    "## Motivation\n",
    "\n",
    "The raw camera data usually has a certain level of distortion caused by lense shape, this is especially pronounced on the edges of the image. The correction is essential in applications like image recognition where mainitaining the shape is essential, especially in autonomous vehicles, robotics and even in 3D printing."
   ]
  },
  {
   "cell_type": "markdown",
   "metadata": {
    "deletable": true,
    "editable": true
   },
   "source": [
    "## Solution approach\n",
    "\n",
    "The common solution is to compare a **known shape object e.g. a chessboard** with the image taken, then calculate this **specific camera's** adjustment parameters that then can be applied to every frame taken by the camera. If the camera changes (camera lense type, resolution, image size) in the set up, the new chessboard images have to be taken and calibration process repeated.\n",
    "\n",
    "The angle of chessboard in relation to the camera does not matter, in fact the sample pictures should be taken from various angles. Only the pictures with **whole chessboard showing** will work.\n",
    "\n",
    "You should take **many, at least 20 sample images**, any less and the learning process renders images that are not a well corrected."
   ]
  },
  {
   "cell_type": "code",
   "execution_count": 1,
   "metadata": {
    "collapsed": true,
    "deletable": true,
    "editable": true
   },
   "outputs": [],
   "source": [
    "# When working on this file set to True, \n",
    "# when using as library, or commiting set to False\n",
    "should_run_tests_on_camera_calibration = False"
   ]
  },
  {
   "cell_type": "markdown",
   "metadata": {
    "deletable": true,
    "editable": true
   },
   "source": [
    "# Desired result (spoiler alert!)\n",
    "\n",
    "For people who have no patience to read the whole paper I am including the final result:\n",
    "\n",
    "\n",
    "<img src=\"example_calibration.png\" />"
   ]
  },
  {
   "cell_type": "code",
   "execution_count": 2,
   "metadata": {
    "collapsed": true,
    "deletable": true,
    "editable": true
   },
   "outputs": [],
   "source": [
    "import numpy as np # used for lists, matrixes, etc.\n",
    "import cv2 # we will use OpenCV library\n",
    "%matplotlib inline"
   ]
  },
  {
   "cell_type": "markdown",
   "metadata": {
    "deletable": true,
    "editable": true
   },
   "source": [
    "## Useful helper method"
   ]
  },
  {
   "cell_type": "code",
   "execution_count": 3,
   "metadata": {
    "collapsed": true,
    "deletable": true,
    "editable": true
   },
   "outputs": [],
   "source": [
    "def plot_images(left_image, right_image):\n",
    "    import numpy as np\n",
    "    import matplotlib.pyplot as plt\n",
    "    plt.figure(figsize=(20,10))\n",
    "    plot_image = np.concatenate((left_image, right_image), axis=1)\n",
    "    plt.imshow(plot_image)\n",
    "    plt.show() "
   ]
  },
  {
   "cell_type": "code",
   "execution_count": 4,
   "metadata": {
    "collapsed": true,
    "deletable": true,
    "editable": true
   },
   "outputs": [],
   "source": [
    "def __get_sample_gray(image_file_name: str):\n",
    "    import cv2 # we will use OpenCV library\n",
    "    image_original = cv2.imread(image_file_name)\n",
    "    # convert BGR image to gray-scale\n",
    "    image_gray = cv2.cvtColor(image_original, cv2.COLOR_BGR2GRAY)\n",
    "    return image_original, image_gray\n",
    "    "
   ]
  },
  {
   "cell_type": "markdown",
   "metadata": {
    "deletable": true,
    "editable": true
   },
   "source": [
    "## The pattern will look for \"inner corners\" e.g. black touching the black square"
   ]
  },
  {
   "cell_type": "code",
   "execution_count": 5,
   "metadata": {
    "collapsed": true,
    "deletable": true,
    "editable": true
   },
   "outputs": [],
   "source": [
    "def __find_inside_corners(image_file_names: list, nx: int=9, ny: int=6, verbose = False):\n",
    "    # Chessboard dimentsions\n",
    "    # nx = 9 # horizontal\n",
    "    # ny = 6 # vertical\n",
    "\n",
    "    import cv2 # we will use OpenCV library\n",
    "    import numpy as np\n",
    "    # Initialise arrays\n",
    "\n",
    "    # Object Points: points on the original picture of chessboard\n",
    "    object_point_list = []\n",
    "\n",
    "    #Image Points: points on the perfect 2D chessboard\n",
    "    image_points_list = []\n",
    "\n",
    "    # Generate 3D object points\n",
    "    object_points = np.zeros((nx*ny, 3), np.float32)\n",
    "    object_points[:,:2] = np.mgrid[0:nx, 0:ny].T.reshape(-1, 2)\n",
    "\n",
    "    #print(\"first 5 elements:\\n\", object_points[0:5])\n",
    "    # see: http://docs.opencv.org/trunk/dc/dbb/tutorial_py_calibration.html\n",
    "\n",
    "    termination_criteria = (cv2.TERM_CRITERIA_EPS + cv2.TERM_CRITERIA_MAX_ITER, 30, 0.001)\n",
    "    chessboard_dimentions = (nx, ny)\n",
    "    import matplotlib.pyplot as plt\n",
    "    for image_file_name in image_file_names:\n",
    "        \n",
    "        if verbose:\n",
    "            print(\"processing image:\", image_file_name)\n",
    "        image_original, image_gray = __get_sample_gray(image_file_name)\n",
    "\n",
    "        # Find the chess board corners\n",
    "        # Paramters:\n",
    "        # - image_gray\n",
    "        # - the chessboard to be used is 9x6\n",
    "        # - flags = None\n",
    "        has_found, corners = cv2.findChessboardCorners(image_gray, chessboard_dimentions, None)\n",
    "        \n",
    "        if has_found == True:\n",
    "            # fill in ObjectPoints\n",
    "            object_point_list.append(object_points)\n",
    "\n",
    "            corners2 = cv2.cornerSubPix(image_gray, corners, (11,11), (-1,-1), termination_criteria)\n",
    "            # fill in ImagePoints\n",
    "            image_points_list.append(corners2)\n",
    "\n",
    "            # Draw and display the corners\n",
    "            # I have to clone/copy the image because cv2.drawChessboardCorners changes the content\n",
    "            image_corners = cv2.drawChessboardCorners(\n",
    "                image_original.copy(), \n",
    "                chessboard_dimentions, \n",
    "                corners2, \n",
    "                has_found)\n",
    "\n",
    "            if verbose:\n",
    "                plot_images(image_original, image_corners)\n",
    "        else: # not has_found\n",
    "            if verbose:\n",
    "                print(\"The\", chessboard_dimentions, \n",
    "                  \"chessboard pattern was not found, most likely partial chessboard showing\")\n",
    "                plt.figure()\n",
    "                plt.imshow(image_original)\n",
    "                plt.show()\n",
    "        # end if has_found\n",
    "    # end for\n",
    "    return object_point_list, image_points_list\n",
    "        "
   ]
  },
  {
   "cell_type": "markdown",
   "metadata": {
    "deletable": true,
    "editable": true
   },
   "source": [
    "# Calibrate using points"
   ]
  },
  {
   "cell_type": "code",
   "execution_count": 6,
   "metadata": {
    "collapsed": false,
    "deletable": true,
    "editable": true
   },
   "outputs": [],
   "source": [
    "def prep_calibration(image_file_names: list, use_optimized = True, verbose = False):\n",
    "    import cv2 # we will use OpenCV library\n",
    "    # find CORNERS\n",
    "    object_point_list, image_points_list = __find_inside_corners(image_file_names)\n",
    "    \n",
    "    # get smaple image, mostly for dimensions\n",
    "    image_original, image_gray = __get_sample_gray(image_file_names[1])\n",
    "\n",
    "    # Learn calibration\n",
    "    # Returns:\n",
    "    # - camera matrix\n",
    "    # - distortion coefficients\n",
    "    # - rotation vectors\n",
    "    # - translation vectors\n",
    "    has_sucess, matrix, distortion, rvecs, tvecs = cv2.calibrateCamera(\n",
    "        object_point_list, \n",
    "        image_points_list, \n",
    "        image_gray.shape[::-1], \n",
    "        None, \n",
    "        None)\n",
    "    \n",
    "    ## I can use this to improve the calibration (no cropped edges, but curved edges)\n",
    "    image_dimentions = image_original.shape[:2] # height, width\n",
    "    matrix_optimized, roi = cv2.getOptimalNewCameraMatrix(\n",
    "        matrix, \n",
    "        distortion, \n",
    "        image_dimentions, \n",
    "        1, \n",
    "        image_dimentions)\n",
    "    return matrix, matrix_optimized, distortion"
   ]
  },
  {
   "cell_type": "code",
   "execution_count": 7,
   "metadata": {
    "collapsed": false,
    "deletable": true,
    "editable": true
   },
   "outputs": [],
   "source": [
    "def apply_correction(\n",
    "    image_file_name: str = None, \n",
    "    matrix = None, \n",
    "    distortion = None,\n",
    "    matix_optimized = None): # optional\n",
    "    import cv2 # we will use OpenCV library\n",
    "    \n",
    "    print(\"Removing distortion in\", image_file_name)\n",
    "    image = cv2.imread(image_file_name)\n",
    "    \n",
    "    image_corrected = cv2.undistort(image, matrix, distortion, None, matix_optimized)\n",
    "    \n",
    "    if matix_optimized is None:\n",
    "        print(\"NOT OPTIMIZED: edges are cropped.\")\n",
    "    else:\n",
    "        print(\"OPTIMIZED: fuller image, but with edge distortion.\")\n",
    "        \n",
    "    plot_images(image, image_corrected)\n",
    "    return image_corrected"
   ]
  },
  {
   "cell_type": "markdown",
   "metadata": {
    "deletable": true,
    "editable": true
   },
   "source": [
    "## Get list of sample chessboard images by this camera"
   ]
  },
  {
   "cell_type": "code",
   "execution_count": 8,
   "metadata": {
    "collapsed": false,
    "deletable": true,
    "editable": true
   },
   "outputs": [],
   "source": [
    "if should_run_tests_on_camera_calibration:\n",
    "    # read a list of files using a parern\n",
    "    import glob\n",
    "    image_file_names = glob.glob(\"camera_cal/calibration*.jpg\") # e.g. calibration19.jpg\n",
    "    print(\"found\", len(image_file_names), \"calibration image samples\" )\n",
    "    print(\"example\", image_file_names[0])"
   ]
  },
  {
   "cell_type": "code",
   "execution_count": 9,
   "metadata": {
    "collapsed": false,
    "deletable": true,
    "editable": true,
    "scrolled": false
   },
   "outputs": [],
   "source": [
    "#if should_run_tests_on_camera_calibration:\n",
    "#    object_point_list, image_points_list = find_inside_corners(image_file_names)"
   ]
  },
  {
   "cell_type": "code",
   "execution_count": 10,
   "metadata": {
    "collapsed": false,
    "deletable": true,
    "editable": true,
    "scrolled": false
   },
   "outputs": [],
   "source": [
    "if should_run_tests_on_camera_calibration:\n",
    "    matrix, matrix_optimized, distortion = prep_calibration(image_file_names, use_optimized = True)"
   ]
  },
  {
   "cell_type": "markdown",
   "metadata": {
    "deletable": true,
    "editable": true
   },
   "source": [
    "# Remove the distortion form the images"
   ]
  },
  {
   "cell_type": "code",
   "execution_count": 11,
   "metadata": {
    "collapsed": false,
    "deletable": true,
    "editable": true
   },
   "outputs": [],
   "source": [
    "if should_run_tests_on_camera_calibration:\n",
    "    image_file_name = \"test_images/test1.jpg\"\n",
    "    image_corrected = apply_correction(image_file_name, matrix, distortion)\n",
    "    image_corrected = apply_correction(image_file_name, matrix, distortion, matrix_optimized)\n",
    "    # save to disk\n",
    "    cv2.imwrite(\"output_images/\" + \"optimized_\" + image_file_name, image_corrected)"
   ]
  },
  {
   "cell_type": "code",
   "execution_count": 12,
   "metadata": {
    "collapsed": false,
    "deletable": true,
    "editable": true,
    "scrolled": false
   },
   "outputs": [],
   "source": [
    "if should_run_tests_on_camera_calibration:\n",
    "    for image_file_name in image_file_names:\n",
    "        import cv2 # we will use OpenCV library\n",
    "\n",
    "        image_corrected = apply_correction(image_file_name, matrix, distortion)\n",
    "        image_corrected = apply_correction(image_file_name, matrix, distortion, matrix_optimized)\n",
    "\n",
    "        # save to disk\n",
    "        cv2.imwrite(\"output_images/\" + \"optimized_\" + image_file_name, image_corrected)"
   ]
  },
  {
   "cell_type": "markdown",
   "metadata": {
    "deletable": true,
    "editable": true
   },
   "source": [
    "# Conclusion\n",
    "\n",
    "The **optimized** image provides a better camera calibration because it maintains more area of the image instead of cropping it. This is especially visible in the example below. I have manually drawn the **red lines** to show the straightness of on the **corrected image on the right**. The edge curvature plays mental/optical trics. \n",
    "\n",
    "I could improve even further if I took more chessboard samples. \n",
    "\n",
    "The final image might be cropped to hide the curved edges.\n",
    "\n",
    "<img src=\"example_calibration.png\" />"
   ]
  },
  {
   "cell_type": "code",
   "execution_count": null,
   "metadata": {
    "collapsed": false,
    "deletable": true,
    "editable": true
   },
   "outputs": [],
   "source": []
  },
  {
   "cell_type": "code",
   "execution_count": null,
   "metadata": {
    "collapsed": true
   },
   "outputs": [],
   "source": []
  }
 ],
 "metadata": {
  "kernelspec": {
   "display_name": "conda env py352_tf_gpu",
   "language": "python",
   "name": "py352_tf_gpu"
  },
  "language_info": {
   "codemirror_mode": {
    "name": "ipython",
    "version": 3
   },
   "file_extension": ".py",
   "mimetype": "text/x-python",
   "name": "python",
   "nbconvert_exporter": "python",
   "pygments_lexer": "ipython3",
   "version": "3.5.2"
  },
  "widgets": {
   "state": {},
   "version": "1.1.2"
  }
 },
 "nbformat": 4,
 "nbformat_minor": 2
}
